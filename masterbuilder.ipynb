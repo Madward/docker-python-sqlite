{
 "cells": [
  {
   "cell_type": "code",
   "execution_count": 7,
   "metadata": {
    "collapsed": true
   },
   "outputs": [],
   "source": [
    "import os\n",
    "from itertools import permutations,combinations"
   ]
  },
  {
   "cell_type": "code",
   "execution_count": 8,
   "metadata": {
    "collapsed": true
   },
   "outputs": [],
   "source": [
    "template = \"\"\"\n",
    "FROM prolocutor/docker-python-sqlite:3.12\n",
    "#FROM 229931fb6377 #testing \n",
    "RUN cd /tmp/sqlite-autoconf-3120200 \\                                                                    \n",
    "        && ./configure --prefix=/usr --disable-static \\                                                  \n",
    "                CFLAGS=\"-g {{ flag -}}\" \\\n",
    "        && make \\                                                                                        \n",
    "        && make install \\                                                                                \n",
    "        && rm -r /tmp/*                                                                                  \n",
    "\n",
    "CMD [\"python3\"]\n",
    "\n",
    "\"\"\"\n",
    "versionroot = \"./sqlite3.12/\"\n",
    "\n",
    "readmetemplate = \"\"\"\n",
    "# SQLITE 3.12\n",
    "## Available Dockerfiles:\n",
    "{% for d in dockerfiles %}\n",
    "{{d}}\n",
    "{% endfor %}\n",
    "\"\"\"\n",
    "\n",
    "with open(versionroot+\"README.jinja2\",\"w\") as f:\n",
    "    f.write(readmetemplate)\n",
    "with open(versionroot+\"Dockerfile.jinja2\",\"w\") as f:\n",
    "    f.write(template)"
   ]
  },
  {
   "cell_type": "code",
   "execution_count": 9,
   "metadata": {
    "collapsed": true
   },
   "outputs": [],
   "source": [
    "tree = {\"sqlite3.12\":\"./sqlite3.12\"}\n",
    "\n",
    "trunk = {\"Os\":\"-Os\",\n",
    "         \"O2\":\"-O2\",\n",
    "        \"debug\":\"-DSQLITE_DEBUG\"}\n",
    "\n",
    "available_flags = {\"fts5\":\"-DSQLITE_ENABLE_FTS5\",\n",
    "                   \"rtree\":\"-DSQLITE_ENABLE_RTREE\",\n",
    "                   \"column-metadata\":\"-DSQLITE_ENABLE_COLUMN_METADATA\",\n",
    "                   \"json1\":\"-DSQLITE_ENABLE_JSON1\"}"
   ]
  },
  {
   "cell_type": "code",
   "execution_count": 10,
   "metadata": {
    "collapsed": false
   },
   "outputs": [],
   "source": [
    "dockerfile_dir = []\n",
    "for root in tree.values():\n",
    "    for p in permutations(available_flags):\n",
    "        for item in trunk:\n",
    "            d = os.path.join(versionroot,item,\"/\".join(p))\n",
    "            try: os.makedirs(d)\n",
    "            except: pass\n",
    "            dockerfile_dir.append(d)"
   ]
  },
  {
   "cell_type": "code",
   "execution_count": 12,
   "metadata": {
    "collapsed": false
   },
   "outputs": [],
   "source": [
    "flag_combinations = []\n",
    "for L in range(0, len(available_flags)+1):\n",
    "    for subset in combinations(available_flags, L):\n",
    "        for k,v in trunk.items():\n",
    "            flag_combinations.append(sorted(subset+(k,)))"
   ]
  },
  {
   "cell_type": "code",
   "execution_count": 13,
   "metadata": {
    "collapsed": false
   },
   "outputs": [],
   "source": [
    "all_flags = available_flags.update(trunk)"
   ]
  },
  {
   "cell_type": "code",
   "execution_count": 18,
   "metadata": {
    "collapsed": false
   },
   "outputs": [],
   "source": [
    "from jinja2 import Template, Environment, FileSystemLoader\n",
    "import collections\n",
    "\n",
    "#Everything is a template\n",
    "obreros_env = Environment(loader=FileSystemLoader('.'))\n",
    "link = 'https://github.com/disarticulate/docker-python-sqlite/blob/master'\n",
    "dockerfiles = []\n",
    "\n",
    "for k,v in tree.items():\n",
    "    for root, subdirs, files in os.walk(v):\n",
    "        root_dirs = root.replace(v,'')\n",
    "        root_flags = root.replace(v,'').split('/')[1:]\n",
    "        \n",
    "        for flags in flag_combinations:\n",
    "            if collections.Counter(root_flags) == collections.Counter(flags):\n",
    "                flag = \" \".join([available_flags[flag] for flag in flags])\n",
    "                obreros_template = obreros_env.get_template('Dockerfile.jinja2').render(flag=flag)\n",
    "                Dockerfile = root+\"/\"+\"Dockerfile\"\n",
    "                dockerfiles.append(\"[\"+Dockerfile[1:]+\"](\"+link+Dockerfile[1:]+\")\")\n",
    "                with open(Dockerfile, \"w\") as f:\n",
    "                    f.write(obreros_template)\n",
    "                \n",
    "obreros_template = obreros_env.get_template(versionroot+'README.jinja2').render(dockerfiles=dockerfiles)\n",
    "\n",
    "with open(versionroot+'README.md', \"w\") as f:\n",
    "    f.write(obreros_template)"
   ]
  },
  {
   "cell_type": "code",
   "execution_count": null,
   "metadata": {
    "collapsed": false
   },
   "outputs": [],
   "source": []
  },
  {
   "cell_type": "code",
   "execution_count": null,
   "metadata": {
    "collapsed": true
   },
   "outputs": [],
   "source": []
  }
 ],
 "metadata": {
  "kernelspec": {
   "display_name": "Python 3",
   "language": "python",
   "name": "python3"
  },
  "language_info": {
   "codemirror_mode": {
    "name": "ipython",
    "version": 3
   },
   "file_extension": ".py",
   "mimetype": "text/x-python",
   "name": "python",
   "nbconvert_exporter": "python",
   "pygments_lexer": "ipython3",
   "version": "3.5.1+"
  }
 },
 "nbformat": 4,
 "nbformat_minor": 0
}
