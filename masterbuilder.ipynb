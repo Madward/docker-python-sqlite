{
 "cells": [
  {
   "cell_type": "code",
   "execution_count": 3,
   "metadata": {
    "collapsed": true
   },
   "outputs": [],
   "source": [
    "template = \"\"\"\n",
    "FROM prolocutor/docker-python-sqlite:sqlite3.12\n",
    "\n",
    "RUN cd /tmp/sqlite-autoconf-3120200 \\                                                                    \n",
    "        && ./configure --prefix=/usr --disable-static \\                                                  \n",
    "                CFLAGS=\"-g {{ for flag in flags }} {{ flag }} {{ endfor }}\" \\                                                                            \n",
    "        && make \\                                                                                        \n",
    "        && make install \\                                                                                \n",
    "        && rm -r /tmp/*                                                                                  \n",
    "                                                                                                         \n",
    "RUN find /usr/local -depth \\                                                                             \n",
    "                \\( \\                                                                                     \n",
    "                    \\( -type d -a -name test -o -name tests \\) \\\n",
    "                    -o \\\n",
    "                    \\( -type f -a -name '*.pyc' -o -name '*.pyo' \\) \\\n",
    "                \\) -exec rm -rf '{}' + \\\n",
    "        && runDeps=\"$( \\\n",
    "                scanelf --needed --nobanner --recursive /usr/local \\\n",
    "                        | awk '{ gsub(/,/, \"\\nso:\", $2); print \"so:\" $2 }' \\\n",
    "                        | sort -u \\\n",
    "                        | xargs -r apk info --installed \\\n",
    "                        | sort -u \\\n",
    "        )\" \\\n",
    "        && apk add --virtual .python-rundeps $runDeps \\\n",
    "        && apk del .build-deps \\\n",
    "        && rm -rf /usr/src/python ~/.cache\n",
    "\n",
    "CMD [\"python3\"]\n",
    "\n",
    "\"\"\"\n",
    "with open(\"Dockerfile.jinja2\",\"w\") as f:\n",
    "    f.write(template)"
   ]
  },
  {
   "cell_type": "code",
   "execution_count": 46,
   "metadata": {
    "collapsed": false
   },
   "outputs": [
    {
     "data": {
      "text/plain": [
       "['Os/column-metadata/rtree/fts4',\n",
       " 'O2/column-metadata/rtree/fts4',\n",
       " 'Os/column-metadata/fts4/rtree',\n",
       " 'O2/column-metadata/fts4/rtree',\n",
       " 'Os/rtree/column-metadata/fts4',\n",
       " 'O2/rtree/column-metadata/fts4',\n",
       " 'Os/rtree/fts4/column-metadata',\n",
       " 'O2/rtree/fts4/column-metadata',\n",
       " 'Os/fts4/column-metadata/rtree',\n",
       " 'O2/fts4/column-metadata/rtree',\n",
       " 'Os/fts4/rtree/column-metadata',\n",
       " 'O2/fts4/rtree/column-metadata']"
      ]
     },
     "execution_count": 46,
     "metadata": {},
     "output_type": "execute_result"
    }
   ],
   "source": [
    "trunk = {\"Os\":\"-Os\",\n",
    "         \"O2\":\"-O2\"}\n",
    "\n",
    "available_flags = {\"fts4\":\"-DSQLITE_ENABLE_FTS4\",\n",
    "                   \"rtree\":\"-DSQLITE_ENABLE_RTREE\",\n",
    "                   \"column-metadata\":\"-DSQLITE_ENABLE_COLUMN_METADATA\"}\n",
    "\n",
    "tree = []\n",
    "\n",
    "import os\n",
    "from itertools import permutations\n",
    "root = \"./sqlite3.12/\"\n",
    "\n",
    "length = len(available_flags)\n",
    "\n",
    "dockerfile_dir = []\n",
    "for p in permutations(available_flags):\n",
    "    for item in trunk:\n",
    "        d = os.path.join(item,\"/\".join(p))\n",
    "        try: os.makedirs(d)\n",
    "        except: pass\n",
    "            \n",
    "        dockerfile_dir.append(d)\n",
    "dockerfile_dir"
   ]
  },
  {
   "cell_type": "code",
   "execution_count": 48,
   "metadata": {
    "collapsed": false
   },
   "outputs": [
    {
     "data": {
      "text/plain": [
       "[['Os'],\n",
       " ['O2'],\n",
       " ['Os', 'column-metadata'],\n",
       " ['O2', 'column-metadata'],\n",
       " ['Os', 'rtree'],\n",
       " ['O2', 'rtree'],\n",
       " ['Os', 'fts4'],\n",
       " ['O2', 'fts4'],\n",
       " ['Os', 'column-metadata', 'rtree'],\n",
       " ['O2', 'column-metadata', 'rtree'],\n",
       " ['Os', 'column-metadata', 'fts4'],\n",
       " ['O2', 'column-metadata', 'fts4'],\n",
       " ['Os', 'fts4', 'rtree'],\n",
       " ['O2', 'fts4', 'rtree'],\n",
       " ['Os', 'column-metadata', 'fts4', 'rtree'],\n",
       " ['O2', 'column-metadata', 'fts4', 'rtree']]"
      ]
     },
     "execution_count": 48,
     "metadata": {},
     "output_type": "execute_result"
    }
   ],
   "source": [
    "\n",
    "flag_combinations = []\n",
    "\n",
    "for L in range(0, len(available_flags)+1):\n",
    "    for subset in itertools.combinations(available_flags, L):\n",
    "        for item in trunk:\n",
    "            flag_combinations.append(sorted(subset+(item,)))\n",
    "            \n",
    "flag_combinations"
   ]
  },
  {
   "cell_type": "code",
   "execution_count": null,
   "metadata": {
    "collapsed": true
   },
   "outputs": [],
   "source": [
    "from jinja2 import Template, Environment, FileSystemLoader\n",
    "#Everything is a template\n",
    "obreros_env = Environment(loader=FileSystemLoader('.'))\n",
    "for t in templates:\n",
    "    obreros_template = obreros_env.get_template('Dockerfile.jinja2').render(flags=flags)\n",
    "    with open(t['file'], \"w\") as f:\n",
    "        f.write(obreros_template)"
   ]
  }
 ],
 "metadata": {
  "kernelspec": {
   "display_name": "Python 3",
   "language": "python",
   "name": "python3"
  },
  "language_info": {
   "codemirror_mode": {
    "name": "ipython",
    "version": 3
   },
   "file_extension": ".py",
   "mimetype": "text/x-python",
   "name": "python",
   "nbconvert_exporter": "python",
   "pygments_lexer": "ipython3",
   "version": "3.5.1+"
  }
 },
 "nbformat": 4,
 "nbformat_minor": 0
}
